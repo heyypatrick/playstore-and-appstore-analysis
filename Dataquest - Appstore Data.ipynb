{
 "cells": [
  {
   "cell_type": "markdown",
   "metadata": {},
   "source": [
    "# App Data Analysis for Appstore and Playstore\n",
    "\n",
    "This notebook contains data from Google Playstore and Apple Appstore.\n",
    "\n",
    "<table width=100% align=left>\n",
    "    <tr>\n",
    "        <th>Dataset</th>\n",
    "        <th>Rows</th>\n",
    "        <th>Column</th>\n",
    "    </tr>\n",
    "    <tr>\n",
    "        <td>Appstore</td>\n",
    "        <td>7,198</td>\n",
    "        <td>16</td>\n",
    "    </tr>\n",
    "    <tr>\n",
    "        <td>Android</td>\n",
    "        <td>10,843</td>\n",
    "        <td>13</td>\n",
    "    </tr>\n",
    "    <tr>\n",
    "        <td></td>\n",
    "        <td></td>\n",
    "    </tr>\n",
    "</table>\n",
    "\n",
    "\n",
    "\n",
    "**Playstore Headers**\n",
    "```\n",
    "['App', 'Category', 'Rating', 'Reviews', 'Size', 'Installs', 'Type', 'Price', 'Content Rating', 'Genres', 'Last Updated', 'Current Ver', 'Android Ver']\n",
    "```\n",
    "\n",
    "**Appstore Headers**\n",
    "```\n",
    "['id', 'track_name', 'size_bytes', 'currency', 'price', 'rating_count_tot', 'rating_count_ver', 'user_rating', 'user_rating_ver', 'ver', 'cont_rating', 'prime_genre', 'sup_devices.num', 'ipadSc_urls.num', 'lang.num', 'vpp_lic']\n",
    "```"
   ]
  },
  {
   "cell_type": "markdown",
   "metadata": {},
   "source": [
    "## Data Preparation"
   ]
  },
  {
   "cell_type": "code",
   "execution_count": 1,
   "metadata": {},
   "outputs": [],
   "source": [
    "\"\"\"\n",
    "Explore Data Function:\n",
    "\n",
    "This function is designed to explore a dataset by printing a slice of rows and optionally\n",
    "displaying the number of rows and columns.\n",
    "\n",
    "Parameters:\n",
    "- dataset (list): The dataset to explore.\n",
    "- start (int): The index to start exploring from.\n",
    "- end (int): The index to end exploration (exclusive).\n",
    "- rows_and_columns (bool): If True, display the number of rows and columns.\n",
    "\n",
    "Returns:None\n",
    "\"\"\"\n",
    "def explore_data(dataset, start, end, rows_and_columns=False):\n",
    "    dataset_slice = dataset[start:end]\n",
    "    \n",
    "    for row in dataset_slice:\n",
    "        print(row)\n",
    "        print('\\n')\n",
    "        \n",
    "    if rows_and_columns:\n",
    "        print('Number of rows: ', len(dataset))\n",
    "        print('Number of columns: ', len(dataset[0]))\n",
    "\n",
    "\"\"\"\n",
    "Open File Function:\n",
    "\n",
    "This function opens a CSV file, reads its content using the 'csv.reader', and returns the data as a list.\n",
    "Optionally, it can include the header in the result.\n",
    "\n",
    "Parameters:\n",
    "- filename (str): The name of the CSV file to open.\n",
    "- include_header (bool): If True, includes the header in the result.\n",
    "- encoding (str): The encoding of the file. Default is 'utf8'.\n",
    "\n",
    "Returns: \n",
    "list: A list containing the content of the CSV file.\n",
    "\"\"\"\n",
    "def open_file(filename, include_header=False, encoding='utf8'):\n",
    "    opened_file = open(filename, encoding=encoding)\n",
    "    from csv import reader\n",
    "    read_file = reader(opened_file)\n",
    "    \n",
    "    if not include_header:\n",
    "        return list(read_file)[1:]\n",
    "    \n",
    "    return list(read_file)"
   ]
  },
  {
   "cell_type": "markdown",
   "metadata": {},
   "source": [
    "Load the datasets from both the Appstore and Playstore. Examine the contents that are present in both datasets. Subsequently, use the ```explore_data()``` function to display the indexes of these common contents, specifying the *2nd* and *3rd* parameters."
   ]
  },
  {
   "cell_type": "code",
   "execution_count": 2,
   "metadata": {
    "scrolled": true
   },
   "outputs": [
    {
     "name": "stdout",
     "output_type": "stream",
     "text": [
      "['App', 'Category', 'Rating', 'Reviews', 'Size', 'Installs', 'Type', 'Price', 'Content Rating', 'Genres', 'Last Updated', 'Current Ver', 'Android Ver']\n",
      "\n",
      "\n",
      "Number of rows:  10842\n",
      "Number of columns:  13\n",
      "\n",
      "\n",
      "['', 'id', 'track_name', 'size_bytes', 'currency', 'price', 'rating_count_tot', 'rating_count_ver', 'user_rating', 'user_rating_ver', 'ver', 'cont_rating', 'prime_genre', 'sup_devices.num', 'ipadSc_urls.num', 'lang.num', 'vpp_lic']\n",
      "\n",
      "\n",
      "Number of rows:  7198\n",
      "Number of columns:  17\n"
     ]
    }
   ],
   "source": [
    "google_play_dataset = open_file('googleplaystore.csv', True) # true means to include the header\n",
    "apple_appstore_dataset = open_file('AppleStore.csv', True) # true means to include the header\n",
    "\n",
    "explore_data(google_play_dataset, 0, 1, True) # true means to count the no of rows\n",
    "print('\\n')\n",
    "explore_data(apple_appstore_dataset, 0, 1, True) # true means to count the no of columns"
   ]
  },
  {
   "cell_type": "markdown",
   "metadata": {},
   "source": [
    "## Data Sanitation"
   ]
  },
  {
   "cell_type": "code",
   "execution_count": 3,
   "metadata": {},
   "outputs": [],
   "source": [
    " \"\"\"\n",
    "Delete a row from the given data at the specified index.\n",
    "\n",
    "Parameters:\n",
    "- data (list): The dataset from which to delete the row.\n",
    "- index (int): The index of the row to be deleted.\n",
    "\n",
    "Returns:\n",
    "None\n",
    "\"\"\"\n",
    "def delete_row(data, index):\n",
    "    del data[index] "
   ]
  },
  {
   "cell_type": "markdown",
   "metadata": {},
   "source": [
    "Retrieve all incomplete rows from both the Playstore and Appstore datasets, then eliminate them."
   ]
  },
  {
   "cell_type": "code",
   "execution_count": 4,
   "metadata": {},
   "outputs": [
    {
     "name": "stdout",
     "output_type": "stream",
     "text": [
      "INCOMPLETE ROWS IN ANDROID:  [['Life Made WI-Fi Touchscreen Photo Frame', '1.9', '19', '3.0M', '1,000+', 'Free', '0', 'Everyone', '', 'February 11, 2018', '1.0.19', '4.0 and up']]\n",
      "INCOMPLETE ROWS IN APPSTORE:  []\n"
     ]
    }
   ],
   "source": [
    "# Playstore dataset\n",
    "android_incomplete_rows = []\n",
    "android_headers = google_play_dataset[0]\n",
    "\n",
    "for app_data in google_play_dataset[1:]:\n",
    "    if len(android_headers) != len(app_data):\n",
    "        android_incomplete_rows.append(app_data)\n",
    "        delete_row(google_play_dataset, google_play_dataset.index(app_data))\n",
    "        \n",
    "print(\"INCOMPLETE ROWS IN ANDROID: \", android_incomplete_rows)\n",
    "\n",
    "# Appstore dataset\n",
    "appstore_incomplete_rows = []\n",
    "appstore_headers = apple_appstore_dataset[0]\n",
    "\n",
    "for app_data in apple_appstore_dataset[1:]:\n",
    "    if len(appstore_headers) != len(app_data):\n",
    "        android_incomplete_rows.append(app_data)\n",
    "        delete_row(apple_appstore_dataset, apple_appstore_dataset.index(app_data))\n",
    "        \n",
    "print(\"INCOMPLETE ROWS IN APPSTORE: \", appstore_incomplete_rows)"
   ]
  },
  {
   "cell_type": "markdown",
   "metadata": {},
   "source": [
    "Now we have a dataset that excludes incomplete rows, now get all rows that has duplicates in Playstore."
   ]
  },
  {
   "cell_type": "code",
   "execution_count": 5,
   "metadata": {
    "scrolled": true
   },
   "outputs": [
    {
     "name": "stdout",
     "output_type": "stream",
     "text": [
      "Number of duplicate apps:  1181\n",
      "\n",
      "\n",
      "15 examples of duplicate applications:\n",
      " ['Quick PDF Scanner + OCR FREE', 'Box', 'Google My Business', 'ZOOM Cloud Meetings', 'join.me - Simple Meetings', 'Box', 'Zenefits', 'Google Ads', 'Google My Business', 'Slack', 'FreshBooks Classic', 'Insightly CRM', 'QuickBooks Accounting: Invoicing & Expenses', 'HipChat - Chat Built for Teams', 'Xero Accounting Software']\n",
      "Expected length:  9659\n"
     ]
    }
   ],
   "source": [
    "duplicate_apps = []\n",
    "unique_apps = []\n",
    "\n",
    "for app_data in google_play_dataset[1:]:\n",
    "    app_name = app_data[0] #index for app name\n",
    "    if app_name in unique_apps:\n",
    "        duplicate_apps.append(app_name)\n",
    "    else:\n",
    "        unique_apps.append(app_name)\n",
    "\n",
    "print('Number of duplicate apps: ', len(duplicate_apps))\n",
    "print('\\n')\n",
    "print('15 examples of duplicate applications:\\n', duplicate_apps[:15])\n",
    "print('Expected length: ', len(google_play_dataset[1:]) - len(duplicate_apps))"
   ]
  },
  {
   "cell_type": "markdown",
   "metadata": {},
   "source": [
    "Loop through the Playstore dataset and create a dictionary with ```{<app_name> : <review_count>}``` format."
   ]
  },
  {
   "cell_type": "code",
   "execution_count": 6,
   "metadata": {},
   "outputs": [
    {
     "name": "stdout",
     "output_type": "stream",
     "text": [
      "Length of Playstore app name and max number of reviews:  9659\n"
     ]
    }
   ],
   "source": [
    "reviews_max = {}\n",
    "\n",
    "for app_data in google_play_dataset[1:]:\n",
    "    name = app_data[0] #index for app name\n",
    "    review = float(app_data[3]) #index for app review\n",
    "    \n",
    "    if name in reviews_max and reviews_max[name] > review:\n",
    "        reviews_max[name] = review\n",
    "    else:\n",
    "        reviews_max[name] = review\n",
    "    \n",
    "print('Length of Playstore app name and max number of reviews: ', len(reviews_max))"
   ]
  },
  {
   "cell_type": "markdown",
   "metadata": {},
   "source": [
    "Sanitize the Playstore dataset to remove duplicates. ```already_added``` variable is added so we can track the items we have added already."
   ]
  },
  {
   "cell_type": "code",
   "execution_count": 7,
   "metadata": {},
   "outputs": [
    {
     "name": "stdout",
     "output_type": "stream",
     "text": [
      "Length of Playstore uniqe app name along with max number of reviews  9659\n"
     ]
    }
   ],
   "source": [
    "android_clean = {}\n",
    "already_added = {}\n",
    "\n",
    "for app_data in google_play_dataset[1:]:\n",
    "    name = app_data[0] #index for app name\n",
    "    review = float(app_data[3]) #index for app review\n",
    "    \n",
    "    if reviews_max[name] == review and name not in already_added:\n",
    "        android_clean[name] = review\n",
    "        already_added[name] = review\n",
    "\n",
    "print('Length of Playstore uniqe app name along with max number of reviews ', len(android_clean))"
   ]
  },
  {
   "cell_type": "markdown",
   "metadata": {},
   "source": [
    "Check if the given app name from Playstore dataset contains any non-english characters."
   ]
  },
  {
   "cell_type": "code",
   "execution_count": 8,
   "metadata": {},
   "outputs": [],
   "source": [
    "\"\"\"\n",
    "Check if a given string contains non-English characters based on their ASCII values.\n",
    "\n",
    "Parameters:\n",
    "- name (str): The string to be checked.\n",
    "\n",
    "Returns:\n",
    "bool: True if the string contains non-English characters, otherwise False.\n",
    "\"\"\"\n",
    "def has_non_english_character(name):\n",
    "    \n",
    "    with_non_english_name = False\n",
    "    character_arr = [char for char in name]\n",
    "    \n",
    "    non_english_counter = 0;\n",
    "    for letter in character_arr:\n",
    "        \n",
    "        if ord(letter) > 127:\n",
    "            non_english_counter += 1\n",
    "            \n",
    "            if non_english_counter == 3:\n",
    "                with_non_english_name = True\n",
    "                break\n",
    "                \n",
    "\n",
    "    return with_non_english_name        "
   ]
  },
  {
   "cell_type": "markdown",
   "metadata": {},
   "source": [
    "Loop through the Playstore dataset and get all app names that doesn't have non-english characters."
   ]
  },
  {
   "cell_type": "code",
   "execution_count": 9,
   "metadata": {},
   "outputs": [],
   "source": [
    "apps_without_non_english_names = [];\n",
    "\n",
    "for app_data in google_play_dataset[1:]:\n",
    "    name = app_data[0]\n",
    "    \n",
    "    if has_non_english_character(name) is False:\n",
    "        apps_without_non_english_names.append(app_data)"
   ]
  },
  {
   "cell_type": "markdown",
   "metadata": {},
   "source": [
    "Get all free apps from Playstore dataset. Then, display all the totalities of free and total apps registered."
   ]
  },
  {
   "cell_type": "code",
   "execution_count": 10,
   "metadata": {},
   "outputs": [
    {
     "name": "stdout",
     "output_type": "stream",
     "text": [
      "Free apps:  10039\n",
      "Total apps:  10840\n"
     ]
    }
   ],
   "source": [
    "free_apps = []\n",
    "\n",
    "for app_data in google_play_dataset[1:]:\n",
    "    price = app_data[6];\n",
    "    \n",
    "    if price == 'Free':\n",
    "        free_apps.append(app_data)\n",
    "\n",
    "print('Free apps: ', len(free_apps))\n",
    "print('Total apps: ', len(google_play_dataset[1:]))"
   ]
  },
  {
   "cell_type": "markdown",
   "metadata": {},
   "source": [
    "Display the frequency table of a given data set."
   ]
  },
  {
   "cell_type": "code",
   "execution_count": 11,
   "metadata": {},
   "outputs": [],
   "source": [
    "def freq_table(dataset, index):\n",
    "    data = {}\n",
    "    \n",
    "    for datum in dataset:\n",
    "        tmp = datum[index]\n",
    "        \n",
    "        if tmp in data:\n",
    "            data[tmp] += 1\n",
    "        else:\n",
    "            data[tmp] = 1\n",
    "            \n",
    "    return data"
   ]
  },
  {
   "cell_type": "markdown",
   "metadata": {},
   "source": []
  },
  {
   "cell_type": "code",
   "execution_count": 12,
   "metadata": {},
   "outputs": [],
   "source": [
    "\"\"\"\n",
    "Display Table Function:\n",
    "\n",
    "Generates a frequency table from a dataset using a specified index and displays the table in a sorted format.\n",
    "\n",
    "Parameters:\n",
    "- dataset (list): The dataset from which the frequency table is generated.\n",
    "- index: The index or key within the dataset used to create the frequency table.\n",
    "\n",
    "Returns: None\n",
    "\"\"\"\n",
    "def display_table(dataset, index):\n",
    "    table = freq_table(dataset, index)\n",
    "    table_display = []\n",
    "    \n",
    "    for key in table:\n",
    "        key_val_as_tuple = (table[key], key)\n",
    "        table_display.append(key_val_as_tuple)\n",
    "    \n",
    "    table_sorted = sorted(table_display, reverse = True)\n",
    "    for entry in table_sorted:\n",
    "        print(entry[1], ':', entry[0])"
   ]
  },
  {
   "cell_type": "markdown",
   "metadata": {},
   "source": [
    "### Analyzation\n",
    "\n",
    "For ***Appstore*** applications, determine which is the most popular genre."
   ]
  },
  {
   "cell_type": "markdown",
   "metadata": {},
   "source": [
    "### Most Popular Apps by Genre on the App Store"
   ]
  },
  {
   "cell_type": "code",
   "execution_count": 13,
   "metadata": {
    "scrolled": true
   },
   "outputs": [
    {
     "name": "stdout",
     "output_type": "stream",
     "text": [
      "Average rating per genre on Appstore: \n",
      "-----------------\n",
      "4+  :  26.0\n",
      "12+  :  649.0\n",
      "17+  :  203.0\n",
      "9+  :  248.0\n"
     ]
    }
   ],
   "source": [
    "appstore_apps = freq_table(apple_appstore_dataset[1:], 11)\n",
    "\n",
    "print('Average rating per genre on Appstore: \\n-----------------')\n",
    "\n",
    "for genre, count in appstore_apps.items():\n",
    "    total = 0\n",
    "    len_genre = 0\n",
    "    \n",
    "    for app_data in apple_appstore_dataset[1:]:\n",
    "        genre_app = app_data[11]\n",
    "        \n",
    "        if genre_app is genre:\n",
    "            user_rating = float(app_data[7])\n",
    "            total = total + user_rating\n",
    "            len_genre += 1\n",
    "    \n",
    "    total = total / len_genre\n",
    "    \n",
    "    print(genre, ' : ', total)\n",
    "            "
   ]
  },
  {
   "cell_type": "code",
   "execution_count": 14,
   "metadata": {},
   "outputs": [],
   "source": [
    "# TODO: Intepretation of data above"
   ]
  },
  {
   "cell_type": "markdown",
   "metadata": {},
   "source": [
    "### Most Popular Apps by Genre on Google Play"
   ]
  },
  {
   "cell_type": "code",
   "execution_count": 32,
   "metadata": {
    "scrolled": true
   },
   "outputs": [
    {
     "name": "stdout",
     "output_type": "stream",
     "text": [
      "ART_AND_DESIGN : 10,000.0\n",
      "DATING : 10,000.0\n",
      "PARENTING : 10,000.0\n",
      "LIBRARIES_AND_DEMO : 50,000.0\n",
      "AUTO_AND_VEHICLES : 100,000.0\n",
      "EVENTS : 100,000.0\n",
      "MEDICAL : 100,000.0\n",
      "BEAUTY : 500,000.0\n",
      "PHOTOGRAPHY : 1,000,000.0\n",
      "LIFESTYLE : 5,000,000.0\n",
      "BUSINESS : 10,000,000.0\n",
      "COMICS : 10,000,000.0\n",
      "FINANCE : 10,000,000.0\n",
      "FOOD_AND_DRINK : 10,000,000.0\n",
      "HEALTH_AND_FITNESS : 10,000,000.0\n",
      "HOUSE_AND_HOME : 10,000,000.0\n",
      "SHOPPING : 10,000,000.0\n",
      "SPORTS : 10,000,000.0\n",
      "TRAVEL_AND_LOCAL : 10,000,000.0\n",
      "TOOLS : 10,000,000.0\n",
      "NEWS_AND_MAGAZINES : 10,000,000.0\n",
      "FAMILY : 50,000,000.0\n",
      "PERSONALIZATION : 50,000,000.0\n",
      "WEATHER : 50,000,000.0\n",
      "BOOKS_AND_REFERENCE : 100,000,000.0\n",
      "EDUCATION : 100,000,000.0\n",
      "ENTERTAINMENT : 100,000,000.0\n",
      "GAME : 100,000,000.0\n",
      "MAPS_AND_NAVIGATION : 100,000,000.0\n",
      "PRODUCTIVITY : 500,000,000.0\n",
      "COMMUNICATION : 1,000,000,000.0\n",
      "SOCIAL : 1,000,000,000.0\n",
      "VIDEO_PLAYERS : 1,000,000,000.0\n"
     ]
    }
   ],
   "source": [
    "playstore_apps = freq_table(google_play_dataset[1:], 1)\n",
    "\n",
    "category_w_avg = {}\n",
    "for category, count in playstore_apps.items():\n",
    "    total = 0\n",
    "    len_category = 0\n",
    "    \n",
    "    for app_data in google_play_dataset[1:]:\n",
    "        category_app = app_data[1]\n",
    "        \n",
    "        if category_app is category:\n",
    "            n_installs = app_data[5]\n",
    "            n_installs = n_installs.replace('+','')\n",
    "            n_installs = n_installs.replace(',','')\n",
    "            n_installs = float(n_installs)\n",
    "            \n",
    "            total = total + n_installs\n",
    "            len_category = len_category + 1\n",
    "    \n",
    "    avg = total / len_category\n",
    "    \n",
    "    category_w_avg[category] = '{:,}'.format(avg)\n",
    "\n",
    "sorted_data = dict(sorted(category_w_avg.items(), key=lambda item: float(item[1].replace(',', ''))))\n",
    "for category in sorted_data:\n",
    "    print(category, ':', category_w_avg[category])"
   ]
  },
  {
   "cell_type": "code",
   "execution_count": 16,
   "metadata": {},
   "outputs": [],
   "source": [
    "# TODO: Interpretation of data aboove"
   ]
  }
 ],
 "metadata": {
  "kernelspec": {
   "display_name": "Python 3 (ipykernel)",
   "language": "python",
   "name": "python3"
  },
  "language_info": {
   "codemirror_mode": {
    "name": "ipython",
    "version": 3
   },
   "file_extension": ".py",
   "mimetype": "text/x-python",
   "name": "python",
   "nbconvert_exporter": "python",
   "pygments_lexer": "ipython3",
   "version": "3.11.5"
  }
 },
 "nbformat": 4,
 "nbformat_minor": 2
}
